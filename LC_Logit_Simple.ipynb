{
 "cells": [
  {
   "cell_type": "code",
   "execution_count": 15,
   "id": "d2d51baf",
   "metadata": {},
   "outputs": [],
   "source": [
    "import numpy as np\n",
    "import pandas as pd\n",
    "import matplotlib.pyplot as plt\n",
    "import seaborn as sns\n",
    "\n",
    "from sklearn.model_selection import train_test_split, GridSearchCV\n",
    "from sklearn.linear_model import LogisticRegression\n",
    "from sklearn import metrics\n",
    "\n",
    "import statsmodels.formula.api as smf\n",
    "\n",
    "pd.options.display.max_columns = 2000\n",
    "pd.options.display.max_rows = 200"
   ]
  },
  {
   "cell_type": "code",
   "execution_count": 16,
   "id": "c43005ed",
   "metadata": {},
   "outputs": [],
   "source": [
    "def print_def(variable_name):\n",
    "    \"\"\"\n",
    "    Pass in a variable name as a string, print its defintion.\n",
    "    Definitions included with the original dataset. \n",
    "    Only works with ORIGINAL feature names.\n",
    "    \"\"\"\n",
    "    \n",
    "    try:\n",
    "        if  not (\"definitions_\" in globals()):\n",
    "            try:\n",
    "                global definitions_\n",
    "                definitions_ = pd.read_csv(\"LC_definitions.csv\")       \n",
    "            except:\n",
    "                print(f\"Could not find \\\"LC_definitions.csv\\\" in {pwd}.\")\n",
    "        print(variable_name, \"-\", definitions_.loc[definitions_.LoanStatNew == variable_name, \"Description\"].iloc[0])\n",
    "    except:\n",
    "        print(\"New feature, not in original dictionary.\")"
   ]
  },
  {
   "cell_type": "code",
   "execution_count": 17,
   "id": "4b60862b",
   "metadata": {},
   "outputs": [],
   "source": [
    "# Either pass in a list of columns to use via logit_cols_ \n",
    "# or pass in a list of columns to drop via logit_drop_\n",
    "def smf_logit(df_, y_, logit_cols_=None, logit_drop_=None):\n",
    "    if logit_drop_:\n",
    "        sm_df = df_.drop(labels=logit_drop_, axis=1).dropna()\n",
    "    elif logit_cols_:\n",
    "        sm_df = df_.loc[:, logit_cols_+[y_]].copy().dropna()   \n",
    "    else:\n",
    "        sm_df = df_.copy().dropna()\n",
    "        \n",
    "    formula = y_ + \" ~ \"\n",
    "    for column in sm_df.drop(labels=[y_], axis=1).columns:\n",
    "        formula += column + \" + \"\n",
    "    formula = formula[:-3]\n",
    "    \n",
    "    print(f\"{formula}\")\n",
    "    sm_model = smf.logit(formula, data=sm_df).fit()\n",
    "    print(sm_model.summary())"
   ]
  },
  {
   "cell_type": "code",
   "execution_count": 21,
   "id": "89d7ea58",
   "metadata": {},
   "outputs": [],
   "source": [
    "df = pd.read_csv(\"lending_club_sample_preprocessed.csv\")\n",
    "df_biased = pd.read_csv(\"lending_club_biased_preprocessed.csv\")"
   ]
  },
  {
   "cell_type": "code",
   "execution_count": 19,
   "id": "7fb32cc7",
   "metadata": {},
   "outputs": [
    {
     "name": "stdout",
     "output_type": "stream",
     "text": [
      "target ~ last_fico_range_high + last_pymnt_amnt + total_rec_prncp + funded_amnt + issue_date_year + installment + total_pymnt_inv + total_pymnt\n",
      "Optimization terminated successfully.\n",
      "         Current function value: 0.109749\n",
      "         Iterations 13\n",
      "                           Logit Regression Results                           \n",
      "==============================================================================\n",
      "Dep. Variable:                 target   No. Observations:                60000\n",
      "Model:                          Logit   Df Residuals:                    59991\n",
      "Method:                           MLE   Df Model:                            8\n",
      "Date:                Wed, 09 Aug 2023   Pseudo R-squ.:                  0.7090\n",
      "Time:                        10:04:32   Log-Likelihood:                -6584.9\n",
      "converged:                       True   LL-Null:                       -22628.\n",
      "Covariance Type:            nonrobust   LLR p-value:                     0.000\n",
      "========================================================================================\n",
      "                           coef    std err          z      P>|z|      [0.025      0.975]\n",
      "----------------------------------------------------------------------------------------\n",
      "Intercept             1320.9607     27.752     47.599      0.000    1266.569    1375.353\n",
      "last_fico_range_high    -0.0306      0.000    -75.049      0.000      -0.031      -0.030\n",
      "last_pymnt_amnt         -0.0008      4e-05    -19.676      0.000      -0.001      -0.001\n",
      "total_rec_prncp         -0.0007   1.52e-05    -43.346      0.000      -0.001      -0.001\n",
      "funded_amnt           3.101e-06   8.02e-06      0.387      0.699   -1.26e-05    1.88e-05\n",
      "issue_date_year         -0.6464      0.014    -47.035      0.000      -0.673      -0.619\n",
      "installment              0.0052      0.000     19.112      0.000       0.005       0.006\n",
      "total_pymnt_inv          0.0004   8.06e-05      5.269      0.000       0.000       0.001\n",
      "total_pymnt             -0.0002   8.15e-05     -2.110      0.035      -0.000   -1.22e-05\n",
      "========================================================================================\n",
      "\n",
      "Possibly complete quasi-separation: A fraction 0.27 of observations can be\n",
      "perfectly predicted. This might indicate that there is complete\n",
      "quasi-separation. In this case some parameters will not be identified.\n"
     ]
    }
   ],
   "source": [
    "use_cols = [\"last_fico_range_high\", \"last_pymnt_amnt\", \"total_rec_prncp\", \n",
    "            \"funded_amnt\", \"issue_date_year\", \"installment\", \n",
    "            \"total_pymnt_inv\", \"total_pymnt\"]\n",
    "\n",
    "smf_logit(df, \"target\", logit_cols_=use_cols)"
   ]
  },
  {
   "cell_type": "code",
   "execution_count": null,
   "id": "e989e283",
   "metadata": {},
   "outputs": [],
   "source": []
  },
  {
   "cell_type": "code",
   "execution_count": null,
   "id": "a60e8700",
   "metadata": {},
   "outputs": [],
   "source": []
  }
 ],
 "metadata": {
  "kernelspec": {
   "display_name": "Python 3 (ipykernel)",
   "language": "python",
   "name": "python3"
  },
  "language_info": {
   "codemirror_mode": {
    "name": "ipython",
    "version": 3
   },
   "file_extension": ".py",
   "mimetype": "text/x-python",
   "name": "python",
   "nbconvert_exporter": "python",
   "pygments_lexer": "ipython3",
   "version": "3.10.9"
  }
 },
 "nbformat": 4,
 "nbformat_minor": 5
}
